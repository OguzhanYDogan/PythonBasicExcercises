{
 "cells": [
  {
   "cell_type": "code",
   "execution_count": 18,
   "metadata": {},
   "outputs": [
    {
     "name": "stdin",
     "output_type": "stream",
     "text": [
      "Please enter your name: Oğuzhan\n",
      "Please enter your surname: Doğan\n",
      "Please enter your age: 23\n",
      "Please enter your birth date: 1997\n"
     ]
    },
    {
     "name": "stdout",
     "output_type": "stream",
     "text": [
      "Oğuzhan\n",
      "Doğan\n",
      "23\n",
      "1997\n",
      "You can go out to the street\n"
     ]
    }
   ],
   "source": [
    "name = input(\"Please enter your name:\")\n",
    "surname = input(\"Please enter your surname:\")\n",
    "age = int(input(\"Please enter your age:\"))\n",
    "date = input(\"Please enter your birth date:\")\n",
    "info = [name,surname,age,date]\n",
    "\n",
    "for i in info:\n",
    "    print(i)\n",
    "    if (i==3):\n",
    "        break\n",
    "if(age<18):\n",
    "    print(\"You can't go out because it is too dangerous\")\n",
    "else:\n",
    "    print(\"You can go out to the street\")"
   ]
  },
  {
   "cell_type": "code",
   "execution_count": 3,
   "metadata": {},
   "outputs": [
    {
     "name": "stdin",
     "output_type": "stream",
     "text": [
      "Please enter your name: Oğuzhan\n",
      "Please enter your surname: Doğan\n",
      "Please enter your age: 23\n",
      "Please enter your birth date: 1997\n"
     ]
    },
    {
     "name": "stdout",
     "output_type": "stream",
     "text": [
      "Oğuzhan\n",
      "Doğan\n",
      "23\n",
      "1997\n",
      "You can go out to the street\n"
     ]
    }
   ],
   "source": [
    "#Append Fonksiyonu ile yapılmış hali\n",
    "info = []\n",
    "name = input(\"Please enter your name:\")\n",
    "info.append(name)\n",
    "surname = input(\"Please enter your surname:\")\n",
    "info.append(surname)\n",
    "age = int(input(\"Please enter your age:\"))\n",
    "info.append(age)\n",
    "date = input(\"Please enter your birth date:\")\n",
    "info.append(date)\n",
    "\n",
    "\n",
    "for i in info:\n",
    "    print(i)\n",
    "    if (i==3):\n",
    "        break\n",
    "if(age<18):\n",
    "    print(\"You can't go out because it is too dangerous\")\n",
    "else:\n",
    "    print(\"You can go out to the street\")"
   ]
  },
  {
   "cell_type": "code",
   "execution_count": null,
   "metadata": {},
   "outputs": [],
   "source": []
  }
 ],
 "metadata": {
  "kernelspec": {
   "display_name": "Python 3",
   "language": "python",
   "name": "python3"
  },
  "language_info": {
   "codemirror_mode": {
    "name": "ipython",
    "version": 3
   },
   "file_extension": ".py",
   "mimetype": "text/x-python",
   "name": "python",
   "nbconvert_exporter": "python",
   "pygments_lexer": "ipython3",
   "version": "3.8.5"
  }
 },
 "nbformat": 4,
 "nbformat_minor": 4
}
