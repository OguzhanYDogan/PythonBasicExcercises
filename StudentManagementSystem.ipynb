{
 "cells": [
  {
   "cell_type": "markdown",
   "metadata": {},
   "source": [
    "Project : Student Management System"
   ]
  },
  {
   "cell_type": "code",
   "execution_count": 1,
   "metadata": {},
   "outputs": [
    {
     "name": "stdout",
     "output_type": "stream",
     "text": [
      "******  Student Management System  ******\n"
     ]
    },
    {
     "name": "stdin",
     "output_type": "stream",
     "text": [
      "Lütfen adınızı giriniz Oguzhan\n",
      "Lütfen soyadınızı giriniz. Dogan\n"
     ]
    },
    {
     "name": "stdout",
     "output_type": "stream",
     "text": [
      "Welcome Oguzhan Dogan\n"
     ]
    },
    {
     "name": "stdin",
     "output_type": "stream",
     "text": [
      "Alınması gereken dersleri giriniz Matematik\n",
      "Alınması gereken dersleri giriniz Fen\n",
      "Alınması gereken dersleri giriniz Türkçe\n",
      "Alınması gereken dersleri giriniz İngilizce\n",
      "Alınması gereken dersleri giriniz Sosyal\n"
     ]
    },
    {
     "name": "stdout",
     "output_type": "stream",
     "text": [
      "['Matematik', 'Fen', 'Türkçe', 'İngilizce', 'Sosyal']\n"
     ]
    },
    {
     "name": "stdin",
     "output_type": "stream",
     "text": [
      "Almak istediğiniz dersleri giriniz: Matematik\n",
      "Başka ders almak istiyor musunuz? Y/N: y\n",
      "Almak istediğiniz dersleri giriniz: Fen\n",
      "Başka ders almak istiyor musunuz? Y/N: y\n",
      "Almak istediğiniz dersleri giriniz: İngilizce\n",
      "Başka ders almak istiyor musunuz? Y/N: n\n"
     ]
    },
    {
     "name": "stdout",
     "output_type": "stream",
     "text": [
      "Dersleriniz başarı ile eklendi.\n"
     ]
    },
    {
     "name": "stdin",
     "output_type": "stream",
     "text": [
      "Sınav notlarını gireceğiniz dersi seçiniz: Matematik\n",
      "Matematik dersine ait Midterm notunu giriniz: 90\n",
      "Matematik dersine ait Final notunu giriniz: 86\n",
      "Matematik dersine ait Proje notunu giriniz: 95\n"
     ]
    },
    {
     "name": "stdout",
     "output_type": "stream",
     "text": [
      "Matematik dersine ait harf notunuz BB geçme notunuz ise 89.0\n"
     ]
    }
   ],
   "source": [
    "print(\"******  Student Management System  ******\")\n",
    "\n",
    "name = \"Oguzhan\"\n",
    "surname =\"Dogan\"\n",
    "tries = 3\n",
    "courselist = []\n",
    "choosencourse = []\n",
    "exam = []\n",
    "\n",
    "while tries>0:\n",
    "    name1 = input(\"Lütfen adınızı giriniz\")\n",
    "    surname1 = input(\"Lütfen soyadınızı giriniz.\")\n",
    "\n",
    "    if (name != name1 and surname == surname1):\n",
    "        print(\"Adınız hatalı! Kontrol edip tekrar giriniz\")\n",
    "        tries -= 1\n",
    "        print(f'You have {tries} tries left')\n",
    "    elif (name ==name1 and surname != surname1):\n",
    "        print(\"Soyadınız hatalı! Kontrol edip tekrar giriniz\")\n",
    "        tries -= 1\n",
    "        print(f'You have {tries} tries left')\n",
    "    elif (name != name1 and surname!= surname1):\n",
    "        print(\"Kullanıcı adınız ve parolanız hatalıdır.\")\n",
    "        tries -= 1\n",
    "        print(f'You have {tries} tries left')\n",
    "    else:\n",
    "        print(\"Welcome\",name1,surname1)\n",
    "        tries = 0\n",
    "for i in range(0,5):       \n",
    "    course = input(\"Alınması gereken dersleri giriniz\")\n",
    "    courselist.append(course)\n",
    "print(courselist)\n",
    "\n",
    "while len(choosencourse) >= 0:\n",
    "    chosen = input(\"Almak istediğiniz dersleri giriniz:\")\n",
    "    choosencourse.append(chosen)\n",
    "    cont = input(\"Başka ders almak istiyor musunuz? Y/N:\")\n",
    "    if cont.upper() == \"Y\":\n",
    "        continue\n",
    "    elif cont.upper() == \"N\":  \n",
    "        break      \n",
    "\n",
    "if len(choosencourse) < 3:\n",
    "    print(\"En az 3 adet ders almalısınız!!\")\n",
    "elif len(choosencourse) >= 3:\n",
    "    print(\"Dersleriniz başarı ile eklendi.\")\n",
    "\n",
    "examcourse = input(\"Sınav notlarını gireceğiniz dersi seçiniz:\")\n",
    "midterm = int(input(f'{examcourse} dersine ait Midterm notunu giriniz:'))\n",
    "final = int(input(f'{examcourse} dersine ait Final notunu giriniz:'))\n",
    "project = int(input(f'{examcourse} dersine ait Proje notunu giriniz:'))\n",
    "grade = midterm*30/100 + final*50/100 + project*20/100\n",
    "if grade <= 30:\n",
    "    print(f'{examcourse} dersine ait harf notunuz FF geçme notunuz ise {grade}')\n",
    "elif 30 < grade <= 50:\n",
    "    print(f'{examcourse} dersine ait harf notunuz DD geçme notunuz ise {grade}')\n",
    "elif 50 < grade <= 70:\n",
    "    print(f'{examcourse} dersine ait harf notunuz CC geçme notunuz ise {grade}')\n",
    "elif 70 < grade <= 90:\n",
    "    print(f'{examcourse} dersine ait harf notunuz BB geçme notunuz ise {grade}')\n",
    "elif grade >= 90:\n",
    "    print(f'{examcourse} dersine ait harf notunuz AA geçme notunuz ise {grade}')"
   ]
  },
  {
   "cell_type": "code",
   "execution_count": null,
   "metadata": {},
   "outputs": [],
   "source": []
  }
 ],
 "metadata": {
  "kernelspec": {
   "display_name": "Python 3",
   "language": "python",
   "name": "python3"
  },
  "language_info": {
   "codemirror_mode": {
    "name": "ipython",
    "version": 3
   },
   "file_extension": ".py",
   "mimetype": "text/x-python",
   "name": "python",
   "nbconvert_exporter": "python",
   "pygments_lexer": "ipython3",
   "version": "3.8.5"
  }
 },
 "nbformat": 4,
 "nbformat_minor": 4
}
