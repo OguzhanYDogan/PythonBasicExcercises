{
 "cells": [
  {
   "cell_type": "code",
   "execution_count": 2,
   "metadata": {},
   "outputs": [
    {
     "name": "stdin",
     "output_type": "stream",
     "text": [
      "Please enter an integer:  5\n"
     ]
    },
    {
     "name": "stdout",
     "output_type": "stream",
     "text": [
      "Data type of \"5\" is <class 'int'>\n"
     ]
    },
    {
     "name": "stdin",
     "output_type": "stream",
     "text": [
      "Please enter a string:  A\n"
     ]
    },
    {
     "name": "stdout",
     "output_type": "stream",
     "text": [
      "Data Type of 'A' is <class 'str'>\n"
     ]
    },
    {
     "name": "stdin",
     "output_type": "stream",
     "text": [
      "Please enter a boolean data:  True\n"
     ]
    },
    {
     "name": "stdout",
     "output_type": "stream",
     "text": [
      "Data Type of \"True\" is <class 'bool'>\n"
     ]
    },
    {
     "name": "stdin",
     "output_type": "stream",
     "text": [
      "Please enter a float data:  1.786\n"
     ]
    },
    {
     "name": "stdout",
     "output_type": "stream",
     "text": [
      "Data Type of '1.786' is <class 'float'>\n"
     ]
    },
    {
     "name": "stdin",
     "output_type": "stream",
     "text": [
      "Please enter a complex number: 5+8j\n"
     ]
    },
    {
     "name": "stdout",
     "output_type": "stream",
     "text": [
      "Data Type of \"(5+8j)\" is <class 'complex'>\n"
     ]
    }
   ],
   "source": [
    "#İnteger\n",
    "int1 = int(input(\"Please enter an integer: \"))\n",
    "tip1 = type(int1)\n",
    "print(f'Data type of \"{int1}\" is {tip1}')             #F-string\n",
    "\n",
    "#String\n",
    "str1 = str(input(\"Please enter a string: \"))\n",
    "tip2 = type(str1)\n",
    "print(\"Data Type of '{}' is {}\".format(str1,tip2))    #Format\n",
    "\n",
    "#Boolean\n",
    "bool1 = bool(input(\"Please enter a boolean data: \"))\n",
    "tip3 = type(bool1)\n",
    "print(f'Data Type of \"{bool1}\" is {tip3}')            #F-string\n",
    "\n",
    "#Float\n",
    "float1 = float(input(\"Please enter a float data: \"))\n",
    "tip4 = type(float1)\n",
    "print(\"Data Type of '{}' is {}\".format(float1,tip4))  #Format\n",
    "\n",
    "#Complex\n",
    "complex1 = complex(input(\"Please enter a complex number:\"))\n",
    "tip5 = type(complex1)\n",
    "print(f'Data Type of \"{complex1}\" is {tip5}')         #F-string"
   ]
  },
  {
   "cell_type": "code",
   "execution_count": null,
   "metadata": {},
   "outputs": [],
   "source": []
  }
 ],
 "metadata": {
  "kernelspec": {
   "display_name": "Python 3",
   "language": "python",
   "name": "python3"
  },
  "language_info": {
   "codemirror_mode": {
    "name": "ipython",
    "version": 3
   },
   "file_extension": ".py",
   "mimetype": "text/x-python",
   "name": "python",
   "nbconvert_exporter": "python",
   "pygments_lexer": "ipython3",
   "version": "3.8.5"
  }
 },
 "nbformat": 4,
 "nbformat_minor": 4
}
